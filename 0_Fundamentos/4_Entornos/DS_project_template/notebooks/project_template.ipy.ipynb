{
 "cells": [
  {
   "cell_type": "markdown",
   "metadata": {},
   "source": [
    "----\n",
    "\n",
    "#  **Project Title**\n",
    "\n",
    "----"
   ]
  },
  {
   "cell_type": "markdown",
   "metadata": {},
   "source": [
    "## **Introducción**\n",
    "\n",
    "Aqui es recomendable agregar una breve descripción de tu proyecto, indicando el contexto del problema, objetivos, dependencias, secciones del proyecto entre otros."
   ]
  },
  {
   "cell_type": "markdown",
   "metadata": {},
   "source": [
    "## **Dependencies**\n"
   ]
  },
  {
   "cell_type": "code",
   "execution_count": 147,
   "metadata": {},
   "outputs": [],
   "source": [
    "# Routes\n",
    "import os\n",
    "import sys\n",
    "# Roots\n",
    "import pyprojroot\n",
    "import pyhere\n",
    "# Data management\n",
    "import numpy as np\n",
    "import pandas as pd\n",
    "#Data visualization\n",
    "import matplotlib.pyplot as plt\n",
    "import seaborn as sns \n",
    "\n"
   ]
  },
  {
   "cell_type": "code",
   "execution_count": 148,
   "metadata": {},
   "outputs": [],
   "source": [
    "%load_ext autoreload\n",
    "%autoreload 2"
   ]
  },
  {
   "cell_type": "markdown",
   "metadata": {},
   "source": [
    "### **Utilities**"
   ]
  },
  {
   "cell_type": "code",
   "execution_count": 146,
   "metadata": {},
   "outputs": [],
   "source": [
    "# Agregamos la carpeta 'utils' a la ruta del sistema para que detecte los scripts\n",
    "current_dir = os.getcwd()\n",
    "utils_dir = os.path.join(current_dir, os.pardir, 'utils')\n",
    "sys.path.append(utils_dir)\n",
    "\n",
    "# importación de graficadores\n",
    "import plotter\n"
   ]
  },
  {
   "cell_type": "markdown",
   "metadata": {},
   "source": [
    "### **OS-System dependencies**\n"
   ]
  },
  {
   "cell_type": "code",
   "execution_count": 125,
   "metadata": {},
   "outputs": [
    {
     "name": "stdout",
     "output_type": "stream",
     "text": [
      "current dir = \n",
      " d:\\2)  DOCUMENTS\\3)-Documentos de conocimiento\\2)-Programacion y archivos de manejo de datos\\5)-Diplomado Ciencia de Datos - UPTC\\UPTC_Diplomado_Ciencia_de_Datos_cohorte_II\\0_Fundamentos\\4_Entornos\\DS_project_template\\notebooks\n",
      "parent dir = \n",
      " d:\\2)  DOCUMENTS\\3)-Documentos de conocimiento\\2)-Programacion y archivos de manejo de datos\\5)-Diplomado Ciencia de Datos - UPTC\\UPTC_Diplomado_Ciencia_de_Datos_cohorte_II\\0_Fundamentos\\4_Entornos\\DS_project_template\n",
      "Data directory = \n",
      " d:\\2)  DOCUMENTS\\3)-Documentos de conocimiento\\2)-Programacion y archivos de manejo de datos\\5)-Diplomado Ciencia de Datos - UPTC\\UPTC_Diplomado_Ciencia_de_Datos_cohorte_II\\0_Fundamentos\\4_Entornos\\DS_project_template\\notebooks\\..\\data\n",
      "Raw data directory = \n",
      " d:\\2)  DOCUMENTS\\3)-Documentos de conocimiento\\2)-Programacion y archivos de manejo de datos\\5)-Diplomado Ciencia de Datos - UPTC\\UPTC_Diplomado_Ciencia_de_Datos_cohorte_II\\0_Fundamentos\\4_Entornos\\DS_project_template\\notebooks\\..\\data\\raw_data\n",
      "True\n",
      "True\n",
      "True\n",
      "True\n"
     ]
    }
   ],
   "source": [
    "# Retrieve current directory\n",
    "current_dir = os.getcwd() \n",
    "\n",
    "# Parent directory\n",
    "print('current dir = \\n',current_dir) \n",
    "print('parent dir = \\n',os.path.abspath(os.path.join(current_dir, os.pardir))) \n",
    "\n",
    "# Union between current directory and parent directory\n",
    "data_dir = os.path.join(current_dir, os.pardir, \"data\")\n",
    "raw_data_dir = os.path.join(current_dir, os.pardir, \"data\",\"raw_data\") \n",
    "\n",
    "print('Data directory = \\n', data_dir)\n",
    "print('Raw data directory = \\n', raw_data_dir)\n",
    "\n",
    "print(os.path.exists(data_dir))\n",
    "print(os.path.isdir(data_dir))\n",
    "print(os.path.exists(raw_data_dir))\n",
    "print(os.path.isdir(raw_data_dir))\n"
   ]
  },
  {
   "cell_type": "code",
   "execution_count": 24,
   "metadata": {},
   "outputs": [
    {
     "data": {
      "text/plain": [
       "['d:\\\\2)  DOCUMENTS\\\\3)-Documentos de conocimiento\\\\2)-Programacion y archivos de manejo de datos\\\\5)-Diplomado Ciencia de Datos - UPTC\\\\UPTC_Diplomado_Ciencia_de_Datos_cohorte_II\\\\0_Fundamentos\\\\4_Entornos\\\\DS_project_template\\\\notebooks\\\\..\\\\data\\\\raw_data\\\\.gitkeep',\n",
       " 'd:\\\\2)  DOCUMENTS\\\\3)-Documentos de conocimiento\\\\2)-Programacion y archivos de manejo de datos\\\\5)-Diplomado Ciencia de Datos - UPTC\\\\UPTC_Diplomado_Ciencia_de_Datos_cohorte_II\\\\0_Fundamentos\\\\4_Entornos\\\\DS_project_template\\\\notebooks\\\\..\\\\data\\\\raw_data\\\\tourisnm_engagement.csv']"
      ]
     },
     "execution_count": 24,
     "metadata": {},
     "output_type": "execute_result"
    }
   ],
   "source": [
    "# Available files/folders\n",
    "available_files = [os.path.join(raw_data_dir, item) for item in os.listdir(raw_data_dir)]\n",
    "available_files"
   ]
  },
  {
   "cell_type": "markdown",
   "metadata": {},
   "source": [
    "# **Data import and formating**"
   ]
  },
  {
   "cell_type": "code",
   "execution_count": 133,
   "metadata": {},
   "outputs": [
    {
     "name": "stdout",
     "output_type": "stream",
     "text": [
      "************************************\n",
      "Archivo 0: .gitkeep\n",
      "Archivo 1: tourisnm_eng.csv\n",
      "************************************\n"
     ]
    },
    {
     "data": {
      "text/html": [
       "<div>\n",
       "<style scoped>\n",
       "    .dataframe tbody tr th:only-of-type {\n",
       "        vertical-align: middle;\n",
       "    }\n",
       "\n",
       "    .dataframe tbody tr th {\n",
       "        vertical-align: top;\n",
       "    }\n",
       "\n",
       "    .dataframe thead th {\n",
       "        text-align: right;\n",
       "    }\n",
       "</style>\n",
       "<table border=\"1\" class=\"dataframe\">\n",
       "  <thead>\n",
       "    <tr style=\"text-align: right;\">\n",
       "      <th></th>\n",
       "      <th>UserID</th>\n",
       "      <th>Taken_product</th>\n",
       "      <th>Yearly_avg_view_on_travel_page</th>\n",
       "      <th>preferred_device</th>\n",
       "      <th>total_likes_on_outstation_checkin_given</th>\n",
       "      <th>yearly_avg_Outstation_checkins</th>\n",
       "      <th>member_in_family</th>\n",
       "      <th>preferred_location_type</th>\n",
       "      <th>Yearly_avg_comment_on_travel_page</th>\n",
       "      <th>total_likes_on_outofstation_checkin_received</th>\n",
       "      <th>week_since_last_outstation_checkin</th>\n",
       "      <th>following_company_page</th>\n",
       "      <th>montly_avg_comment_on_company_page</th>\n",
       "      <th>working_flag</th>\n",
       "      <th>travelling_network_rating</th>\n",
       "      <th>Adult_flag</th>\n",
       "      <th>Daily_Avg_mins_spend_on_traveling_page</th>\n",
       "    </tr>\n",
       "  </thead>\n",
       "  <tbody>\n",
       "    <tr>\n",
       "      <th>0</th>\n",
       "      <td>1000001</td>\n",
       "      <td>Yes</td>\n",
       "      <td>307.0</td>\n",
       "      <td>iOS and Android</td>\n",
       "      <td>38570.0</td>\n",
       "      <td>1</td>\n",
       "      <td>2</td>\n",
       "      <td>Financial</td>\n",
       "      <td>94.0</td>\n",
       "      <td>5993</td>\n",
       "      <td>8</td>\n",
       "      <td>Yes</td>\n",
       "      <td>11</td>\n",
       "      <td>No</td>\n",
       "      <td>1</td>\n",
       "      <td>0.0</td>\n",
       "      <td>8.0</td>\n",
       "    </tr>\n",
       "    <tr>\n",
       "      <th>1</th>\n",
       "      <td>1000002</td>\n",
       "      <td>No</td>\n",
       "      <td>367.0</td>\n",
       "      <td>iOS</td>\n",
       "      <td>9765.0</td>\n",
       "      <td>1</td>\n",
       "      <td>1</td>\n",
       "      <td>Financial</td>\n",
       "      <td>61.0</td>\n",
       "      <td>5130</td>\n",
       "      <td>1</td>\n",
       "      <td>No</td>\n",
       "      <td>23</td>\n",
       "      <td>Yes</td>\n",
       "      <td>4</td>\n",
       "      <td>1.0</td>\n",
       "      <td>10.0</td>\n",
       "    </tr>\n",
       "    <tr>\n",
       "      <th>2</th>\n",
       "      <td>1000003</td>\n",
       "      <td>Yes</td>\n",
       "      <td>277.0</td>\n",
       "      <td>iOS and Android</td>\n",
       "      <td>48055.0</td>\n",
       "      <td>1</td>\n",
       "      <td>2</td>\n",
       "      <td>Other</td>\n",
       "      <td>92.0</td>\n",
       "      <td>2090</td>\n",
       "      <td>6</td>\n",
       "      <td>Yes</td>\n",
       "      <td>15</td>\n",
       "      <td>No</td>\n",
       "      <td>2</td>\n",
       "      <td>0.0</td>\n",
       "      <td>7.0</td>\n",
       "    </tr>\n",
       "    <tr>\n",
       "      <th>3</th>\n",
       "      <td>1000004</td>\n",
       "      <td>No</td>\n",
       "      <td>247.0</td>\n",
       "      <td>iOS</td>\n",
       "      <td>48720.0</td>\n",
       "      <td>1</td>\n",
       "      <td>4</td>\n",
       "      <td>Financial</td>\n",
       "      <td>56.0</td>\n",
       "      <td>2909</td>\n",
       "      <td>1</td>\n",
       "      <td>Yes</td>\n",
       "      <td>11</td>\n",
       "      <td>No</td>\n",
       "      <td>3</td>\n",
       "      <td>0.0</td>\n",
       "      <td>8.0</td>\n",
       "    </tr>\n",
       "    <tr>\n",
       "      <th>4</th>\n",
       "      <td>1000005</td>\n",
       "      <td>No</td>\n",
       "      <td>202.0</td>\n",
       "      <td>iOS and Android</td>\n",
       "      <td>20685.0</td>\n",
       "      <td>1</td>\n",
       "      <td>1</td>\n",
       "      <td>Medical</td>\n",
       "      <td>40.0</td>\n",
       "      <td>3468</td>\n",
       "      <td>9</td>\n",
       "      <td>No</td>\n",
       "      <td>12</td>\n",
       "      <td>No</td>\n",
       "      <td>4</td>\n",
       "      <td>1.0</td>\n",
       "      <td>6.0</td>\n",
       "    </tr>\n",
       "  </tbody>\n",
       "</table>\n",
       "</div>"
      ],
      "text/plain": [
       "    UserID Taken_product  Yearly_avg_view_on_travel_page preferred_device  \\\n",
       "0  1000001           Yes                           307.0  iOS and Android   \n",
       "1  1000002            No                           367.0              iOS   \n",
       "2  1000003           Yes                           277.0  iOS and Android   \n",
       "3  1000004            No                           247.0              iOS   \n",
       "4  1000005            No                           202.0  iOS and Android   \n",
       "\n",
       "   total_likes_on_outstation_checkin_given yearly_avg_Outstation_checkins  \\\n",
       "0                                  38570.0                              1   \n",
       "1                                   9765.0                              1   \n",
       "2                                  48055.0                              1   \n",
       "3                                  48720.0                              1   \n",
       "4                                  20685.0                              1   \n",
       "\n",
       "  member_in_family preferred_location_type  Yearly_avg_comment_on_travel_page  \\\n",
       "0                2               Financial                               94.0   \n",
       "1                1               Financial                               61.0   \n",
       "2                2                   Other                               92.0   \n",
       "3                4               Financial                               56.0   \n",
       "4                1                 Medical                               40.0   \n",
       "\n",
       "   total_likes_on_outofstation_checkin_received  \\\n",
       "0                                          5993   \n",
       "1                                          5130   \n",
       "2                                          2090   \n",
       "3                                          2909   \n",
       "4                                          3468   \n",
       "\n",
       "   week_since_last_outstation_checkin following_company_page  \\\n",
       "0                                   8                    Yes   \n",
       "1                                   1                     No   \n",
       "2                                   6                    Yes   \n",
       "3                                   1                    Yes   \n",
       "4                                   9                     No   \n",
       "\n",
       "   montly_avg_comment_on_company_page working_flag  travelling_network_rating  \\\n",
       "0                                  11           No                          1   \n",
       "1                                  23          Yes                          4   \n",
       "2                                  15           No                          2   \n",
       "3                                  11           No                          3   \n",
       "4                                  12           No                          4   \n",
       "\n",
       "   Adult_flag  Daily_Avg_mins_spend_on_traveling_page  \n",
       "0         0.0                                     8.0  \n",
       "1         1.0                                    10.0  \n",
       "2         0.0                                     7.0  \n",
       "3         0.0                                     8.0  \n",
       "4         1.0                                     6.0  "
      ]
     },
     "execution_count": 133,
     "metadata": {},
     "output_type": "execute_result"
    }
   ],
   "source": [
    "# Retrieve current directory\n",
    "current_dir = os.getcwd() \n",
    "\n",
    "# Union between current directory and parent directory\n",
    "data_dir = os.path.join(current_dir, os.pardir, \"data\")\n",
    "raw_data_dir = os.path.join(current_dir, os.pardir, \"data\",\"raw_data\") \n",
    "\n",
    "# Mostrar los archivos en un directorio seleccionado\n",
    "files = os.listdir(raw_data_dir)\n",
    "print('*'*36)\n",
    "for idx, file in enumerate(files):\n",
    "    print(f\"Archivo {idx}: {file}\")\n",
    "print('*'*36)\n",
    "\n",
    "# Seleccionar un archivo específico por su índice\n",
    "selected_file_index = 1  # Reemplaza con el índice del archivo que quieres seleccionar\n",
    "selected_file = files[selected_file_index]\n",
    "\n",
    "# Obtener la ruta completa con el formato correcto\n",
    "selected_file_path = os.path.join(raw_data_dir, selected_file)\n",
    "folder_name = os.path.basename(current_dir)\n",
    "path_funcional = selected_file_path.replace(\"\\\\\",'/').replace(f'{folder_name}/../','')\n",
    "\n",
    "# Carga de los archivos\n",
    "data_raw = pd.read_csv(path_funcional, sep=',')\n",
    "data_raw.head()\n"
   ]
  },
  {
   "cell_type": "markdown",
   "metadata": {},
   "source": [
    "# **Data First Exploration**"
   ]
  },
  {
   "cell_type": "code",
   "execution_count": null,
   "metadata": {},
   "outputs": [],
   "source": []
  },
  {
   "cell_type": "markdown",
   "metadata": {},
   "source": [
    "# **Data Processing**"
   ]
  },
  {
   "cell_type": "code",
   "execution_count": null,
   "metadata": {},
   "outputs": [],
   "source": []
  },
  {
   "cell_type": "markdown",
   "metadata": {},
   "source": [
    "# **EDA (Exploratory Data Analysis)**"
   ]
  },
  {
   "cell_type": "code",
   "execution_count": null,
   "metadata": {},
   "outputs": [],
   "source": []
  },
  {
   "cell_type": "markdown",
   "metadata": {},
   "source": [
    "# **Data Modeling**"
   ]
  },
  {
   "cell_type": "markdown",
   "metadata": {},
   "source": []
  },
  {
   "cell_type": "markdown",
   "metadata": {},
   "source": [
    "# **Model testing and Results**"
   ]
  },
  {
   "cell_type": "markdown",
   "metadata": {},
   "source": []
  }
 ],
 "metadata": {
  "interpreter": {
   "hash": "3667fd0dbc297d5226e7ef1885d67dce146a156d511bfd89bb3a337a239de6a8"
  },
  "kernelspec": {
   "display_name": "Python 3.9.6 64-bit ('paths_management_platzi': conda)",
   "name": "python3"
  },
  "language_info": {
   "codemirror_mode": {
    "name": "ipython",
    "version": 3
   },
   "file_extension": ".py",
   "mimetype": "text/x-python",
   "name": "python",
   "nbconvert_exporter": "python",
   "pygments_lexer": "ipython3",
   "version": "3.10.9"
  },
  "orig_nbformat": 4
 },
 "nbformat": 4,
 "nbformat_minor": 2
}
